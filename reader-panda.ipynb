
import sys
import pandas as pd

sys.path

df = pd.read_csv('innovators.csv')
print(df)
